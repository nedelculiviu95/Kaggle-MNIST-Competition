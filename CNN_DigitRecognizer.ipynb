{
  "nbformat": 4,
  "nbformat_minor": 0,
  "metadata": {
    "colab": {
      "name": "CNN - DigitRecognizer.ipynb",
      "provenance": [],
      "authorship_tag": "ABX9TyMTGCqrILwf+oFVsrPvZAit",
      "include_colab_link": true
    },
    "kernelspec": {
      "name": "python3",
      "display_name": "Python 3"
    },
    "accelerator": "GPU"
  },
  "cells": [
    {
      "cell_type": "markdown",
      "metadata": {
        "id": "view-in-github",
        "colab_type": "text"
      },
      "source": [
        "<a href=\"https://colab.research.google.com/github/nedelculiviu95/Kaggle-MNIST-using-Logistic-Regression/blob/master/CNN_DigitRecognizer.ipynb\" target=\"_parent\"><img src=\"https://colab.research.google.com/assets/colab-badge.svg\" alt=\"Open In Colab\"/></a>"
      ]
    },
    {
      "cell_type": "code",
      "metadata": {
        "id": "ME4XOQe7UGdp",
        "colab_type": "code",
        "colab": {
          "base_uri": "https://localhost:8080/",
          "height": 51
        },
        "outputId": "af6c5ff0-822c-4251-b17e-0aa6ea69cceb"
      },
      "source": [
        "from google.colab import drive\n",
        "drive.mount('/content/gdrive')\n",
        "!pip install pydicom\n",
        "\n",
        "import pandas as pd\n",
        "import numpy as np\n",
        "import matplotlib.pyplot as plt\n",
        "import matplotlib.image as mpimg\n",
        "import seaborn as sns\n",
        "%matplotlib inline\n",
        "\n",
        "np.random.seed(2)\n",
        "\n",
        "from sklearn.model_selection import train_test_split\n",
        "from sklearn.metrics import confusion_matrix\n",
        "import itertools\n",
        "\n",
        "import tensorflow.compat.v1 as tf\n",
        "tf.disable_v2_behavior()\n",
        "from keras.utils.np_utils import to_categorical # convert to one-hot-encoding\n",
        "from keras.models import Sequential\n",
        "from keras.layers import Dense, Dropout, Flatten, Conv2D, MaxPool2D, BatchNormalization\n",
        "from keras.optimizers import RMSprop\n",
        "from keras.preprocessing.image import ImageDataGenerator\n",
        "from keras.callbacks import ReduceLROnPlateau\n"
      ],
      "execution_count": 19,
      "outputs": [
        {
          "output_type": "stream",
          "text": [
            "Drive already mounted at /content/gdrive; to attempt to forcibly remount, call drive.mount(\"/content/gdrive\", force_remount=True).\n",
            "Requirement already satisfied: pydicom in /usr/local/lib/python3.6/dist-packages (1.4.2)\n"
          ],
          "name": "stdout"
        }
      ]
    },
    {
      "cell_type": "code",
      "metadata": {
        "id": "o2mLe4QslfrV",
        "colab_type": "code",
        "colab": {
          "base_uri": "https://localhost:8080/",
          "height": 347
        },
        "outputId": "62241183-9ca4-48cc-f289-2c59cd9daacd"
      },
      "source": [
        "train = pd.read_csv(\"/content/gdrive/My Drive/DigitRecog/train.csv\")\n",
        "test = pd.read_csv(\"/content/gdrive/My Drive/DigitRecog/test.csv\")\n",
        "\n",
        "Y_train = train[\"label\"]\n",
        "\n",
        "# Drop 'label' column\n",
        "X_train = train.drop(labels = [\"label\"],axis = 1) \n",
        "\n",
        "# free some space\n",
        "del train \n",
        "\n",
        "g = sns.countplot(Y_train)\n",
        "\n",
        "Y_train.value_counts()\n",
        "\n",
        "# Normalize the data\n",
        "X_train = X_train / 255.0\n",
        "test = test / 255.0\n",
        "\n",
        "# Reshape image in 3 dimensions (height = 28px, width = 28px , canal = 1)\n",
        "X_train = X_train.values.reshape(-1,28,28,1)\n",
        "test = test.values.reshape(-1,28,28,1)\n",
        "\n",
        "# Encode labels to one hot vectors (ex : 2 -> [0,0,1,0,0,0,0,0,0,0])\n",
        "Y_train = to_categorical(Y_train, num_classes = 10)\n",
        "\n",
        "# Set the random seed\n",
        "random_seed = 2\n",
        "\n",
        "# Split the train and the validation set for the fitting\n",
        "X_train, X_val, Y_train, Y_val = train_test_split(X_train, Y_train, test_size = 0.1, random_state=random_seed)\n",
        "\n",
        "print(X_train.shape)\n",
        "print(X_val.shape)\n",
        "print(Y_train.shape)\n",
        "print(Y_val.shape)\n",
        "\n",
        "\n"
      ],
      "execution_count": 20,
      "outputs": [
        {
          "output_type": "stream",
          "text": [
            "(37800, 28, 28, 1)\n",
            "(4200, 28, 28, 1)\n",
            "(37800, 10)\n",
            "(4200, 10)\n"
          ],
          "name": "stdout"
        },
        {
          "output_type": "display_data",
          "data": {
            "image/png": "[encoded data removed]",
            "text/plain": [
              "<Figure size 432x288 with 1 Axes>"
            ]
          },
          "metadata": {
            "tags": []
          }
        }
      ]
    },
    {
      "cell_type": "code",
      "metadata": {
        "id": "Fye5GkQAmKUw",
        "colab_type": "code",
        "colab": {
          "base_uri": "https://localhost:8080/",
          "height": 265
        },
        "outputId": "7099d563-c587-4628-df20-2499794bebfb"
      },
      "source": [
        "# Some examples\n",
        "g = plt.imshow(X_train[0][:,:,0])"
      ],
      "execution_count": 21,
      "outputs": [
        {
          "output_type": "display_data",
          "data": {
            "image/png": "[encoded data removed]",
            "text/plain": [
              "<Figure size 432x288 with 1 Axes>"
            ]
          },
          "metadata": {
            "tags": []
          }
        }
      ]
    },
    {
      "cell_type": "code",
      "metadata": {
        "id": "njzUGZCwmLlt",
        "colab_type": "code",
        "colab": {
          "base_uri": "https://localhost:8080/",
          "height": 663
        },
        "outputId": "b1a5ddf7-3662-42c0-e2af-fa54f2e72daa"
      },
      "source": [
        "# Set the CNN model \n",
        "# my CNN architechture is In -> [[Conv2D->relu]*2 -> MaxPool2D -> Dropout]*2 -> Flatten -> Dense -> Dropout -> Out\n",
        "\n",
        "model = Sequential()\n",
        "\n",
        "model.add(Conv2D(filters = 32, kernel_size = (5,5),padding = 'Same', activation ='relu', input_shape = (28,28,1)))\n",
        "model.add(Conv2D(filters = 32, kernel_size = (5,5),padding = 'Same', activation ='relu'))\n",
        "model.add(Conv2D(filters = 32, kernel_size = (5,5),padding = 'Same', activation ='relu'))\n",
        "model.add(BatchNormalization())\n",
        "model.add(MaxPool2D(pool_size=(2,2), strides=(2,2)))\n",
        "\n",
        "model.add(Conv2D(filters = 64, kernel_size = (3,3),padding = 'Same', activation ='relu'))\n",
        "model.add(Conv2D(filters = 64, kernel_size = (3,3),padding = 'Same', activation ='relu'))\n",
        "model.add(Conv2D(filters = 64, kernel_size = (3,3),padding = 'Same', activation ='relu'))\n",
        "model.add(BatchNormalization())\n",
        "model.add(MaxPool2D(pool_size=(2,2), strides=(2,2)))\n",
        "model.add(Dropout(0.25))\n",
        "\n",
        "\n",
        "model.add(Flatten())\n",
        "model.add(Dense(256, activation = \"relu\"))\n",
        "model.add(Dropout(0.5))\n",
        "model.add(Dense(10, activation = \"softmax\"))\n",
        "\n",
        "model.summary()"
      ],
      "execution_count": 27,
      "outputs": [
        {
          "output_type": "stream",
          "text": [
            "Model: \"sequential_7\"\n",
            "_________________________________________________________________\n",
            "Layer (type)                 Output Shape              Param #   \n",
            "=================================================================\n",
            "conv2d_26 (Conv2D)           (None, 28, 28, 32)        832       \n",
            "_________________________________________________________________\n",
            "conv2d_27 (Conv2D)           (None, 28, 28, 32)        25632     \n",
            "_________________________________________________________________\n",
            "conv2d_28 (Conv2D)           (None, 28, 28, 32)        25632     \n",
            "_________________________________________________________________\n",
            "batch_normalization_5 (Batch (None, 28, 28, 32)        128       \n",
            "_________________________________________________________________\n",
            "max_pooling2d_7 (MaxPooling2 (None, 14, 14, 32)        0         \n",
            "_________________________________________________________________\n",
            "conv2d_29 (Conv2D)           (None, 14, 14, 64)        18496     \n",
            "_________________________________________________________________\n",
            "conv2d_30 (Conv2D)           (None, 14, 14, 64)        36928     \n",
            "_________________________________________________________________\n",
            "conv2d_31 (Conv2D)           (None, 14, 14, 64)        36928     \n",
            "_________________________________________________________________\n",
            "batch_normalization_6 (Batch (None, 14, 14, 64)        256       \n",
            "_________________________________________________________________\n",
            "max_pooling2d_8 (MaxPooling2 (None, 7, 7, 64)          0         \n",
            "_________________________________________________________________\n",
            "dropout_10 (Dropout)         (None, 7, 7, 64)          0         \n",
            "_________________________________________________________________\n",
            "flatten_4 (Flatten)          (None, 3136)              0         \n",
            "_________________________________________________________________\n",
            "dense_7 (Dense)              (None, 256)               803072    \n",
            "_________________________________________________________________\n",
            "dropout_11 (Dropout)         (None, 256)               0         \n",
            "_________________________________________________________________\n",
            "dense_8 (Dense)              (None, 10)                2570      \n",
            "=================================================================\n",
            "Total params: 950,474\n",
            "Trainable params: 950,282\n",
            "Non-trainable params: 192\n",
            "_________________________________________________________________\n"
          ],
          "name": "stdout"
        }
      ]
    },
    {
      "cell_type": "code",
      "metadata": {
        "id": "tdka7hZomPCp",
        "colab_type": "code",
        "colab": {}
      },
      "source": [
        "# Define the optimizer\n",
        "optimizer = RMSprop(lr=0.001, rho=0.9, epsilon=1e-08, decay=0.0)\n",
        "# Compile the model\n",
        "model.compile(optimizer = optimizer , loss = \"categorical_crossentropy\", metrics=[\"accuracy\"])\n",
        "\n",
        "datagen = ImageDataGenerator(\n",
        "        featurewise_center=False,  # set input mean to 0 over the dataset\n",
        "        samplewise_center=False,  # set each sample mean to 0\n",
        "        featurewise_std_normalization=False,  # divide inputs by std of the dataset\n",
        "        samplewise_std_normalization=False,  # divide each input by its std\n",
        "        zca_whitening=False,  # apply ZCA whitening\n",
        "        rotation_range=10,  # randomly rotate images in the range (degrees, 0 to 180)\n",
        "        zoom_range = 0.1, # Randomly zoom image \n",
        "        width_shift_range=0.1,  # randomly shift images horizontally (fraction of total width)\n",
        "        height_shift_range=0.1,  # randomly shift images vertically (fraction of total height)\n",
        "        horizontal_flip=False,  # randomly flip images\n",
        "        vertical_flip=False)  # randomly flip images\n",
        "\n",
        "\n",
        "datagen.fit(X_train)"
      ],
      "execution_count": 0,
      "outputs": []
    },
    {
      "cell_type": "code",
      "metadata": {
        "id": "lUV-35EFmXBs",
        "colab_type": "code",
        "colab": {
          "base_uri": "https://localhost:8080/",
          "height": 1000
        },
        "outputId": "a8c7d3e7-8286-4c5b-cffe-55989a0d9068"
      },
      "source": [
        "epochs = 30 # Turn epochs to 30 to get 0.9967 accuracy\n",
        "batch_size = 1115\n",
        "IMAGE_SIZE = 28\n",
        "\n",
        "history = model.fit_generator(datagen.flow(X_train,Y_train, batch_size=batch_size),\n",
        "                              epochs = epochs, validation_data = (X_val,Y_val),\n",
        "                              verbose = 1, steps_per_epoch=batch_size)"
      ],
      "execution_count": 29,
      "outputs": [
        {
          "output_type": "stream",
          "text": [
            "Epoch 1/30\n",
            "1115/1115 [==============================] - 251s 225ms/step - loss: 0.1106 - acc: 0.9704 - val_loss: 0.0324 - val_acc: 0.9940\n",
            "Epoch 2/30\n",
            "1115/1115 [==============================] - 252s 226ms/step - loss: 0.0242 - acc: 0.9936 - val_loss: 0.0846 - val_acc: 0.9881\n",
            "Epoch 3/30\n",
            "1115/1115 [==============================] - 251s 225ms/step - loss: 0.0184 - acc: 0.9953 - val_loss: 0.0346 - val_acc: 0.9952\n",
            "Epoch 4/30\n",
            "1115/1115 [==============================] - 249s 224ms/step - loss: 0.0154 - acc: 0.9962 - val_loss: 0.0432 - val_acc: 0.9950\n",
            "Epoch 5/30\n",
            "1115/1115 [==============================] - 250s 224ms/step - loss: 0.0136 - acc: 0.9968 - val_loss: 0.0393 - val_acc: 0.9936\n",
            "Epoch 6/30\n",
            "1115/1115 [==============================] - 248s 223ms/step - loss: 0.0124 - acc: 0.9971 - val_loss: 0.0563 - val_acc: 0.9929\n",
            "Epoch 7/30\n",
            "1115/1115 [==============================] - 248s 223ms/step - loss: 0.0110 - acc: 0.9974 - val_loss: 0.0481 - val_acc: 0.9952\n",
            "Epoch 8/30\n",
            "1115/1115 [==============================] - 248s 222ms/step - loss: 0.0102 - acc: 0.9977 - val_loss: 0.0595 - val_acc: 0.9933\n",
            "Epoch 9/30\n",
            "1115/1115 [==============================] - 248s 222ms/step - loss: 0.0092 - acc: 0.9980 - val_loss: 0.0702 - val_acc: 0.9929\n",
            "Epoch 10/30\n",
            "1115/1115 [==============================] - 254s 228ms/step - loss: 0.0087 - acc: 0.9981 - val_loss: 0.0618 - val_acc: 0.9921\n",
            "Epoch 11/30\n",
            "1115/1115 [==============================] - 249s 224ms/step - loss: 0.0077 - acc: 0.9983 - val_loss: 0.0447 - val_acc: 0.9943\n",
            "Epoch 12/30\n",
            "1115/1115 [==============================] - 249s 224ms/step - loss: 0.0076 - acc: 0.9984 - val_loss: 0.0587 - val_acc: 0.9931\n",
            "Epoch 13/30\n",
            "1115/1115 [==============================] - 249s 223ms/step - loss: 0.0069 - acc: 0.9986 - val_loss: 0.0543 - val_acc: 0.9945\n",
            "Epoch 14/30\n",
            "1115/1115 [==============================] - 249s 223ms/step - loss: 0.0069 - acc: 0.9986 - val_loss: 0.0560 - val_acc: 0.9948\n",
            "Epoch 15/30\n",
            "1115/1115 [==============================] - 248s 223ms/step - loss: 0.0066 - acc: 0.9987 - val_loss: 0.0439 - val_acc: 0.9948\n",
            "Epoch 16/30\n",
            "1115/1115 [==============================] - 250s 224ms/step - loss: 0.0062 - acc: 0.9988 - val_loss: 0.0584 - val_acc: 0.9952\n",
            "Epoch 17/30\n",
            "1115/1115 [==============================] - 250s 224ms/step - loss: 0.0059 - acc: 0.9989 - val_loss: 0.0582 - val_acc: 0.9943\n",
            "Epoch 18/30\n",
            "1115/1115 [==============================] - 249s 224ms/step - loss: 0.0055 - acc: 0.9989 - val_loss: 0.0362 - val_acc: 0.9960\n",
            "Epoch 19/30\n",
            "1115/1115 [==============================] - 250s 224ms/step - loss: 0.0053 - acc: 0.9990 - val_loss: 0.0313 - val_acc: 0.9948\n",
            "Epoch 20/30\n",
            "1115/1115 [==============================] - 249s 223ms/step - loss: 0.0049 - acc: 0.9991 - val_loss: 0.0656 - val_acc: 0.9933\n",
            "Epoch 21/30\n",
            "1115/1115 [==============================] - 248s 222ms/step - loss: 0.0045 - acc: 0.9991 - val_loss: 0.0628 - val_acc: 0.9938\n",
            "Epoch 22/30\n",
            "1115/1115 [==============================] - 249s 223ms/step - loss: 0.0049 - acc: 0.9991 - val_loss: 0.0668 - val_acc: 0.9940\n",
            "Epoch 23/30\n",
            "1115/1115 [==============================] - 249s 223ms/step - loss: 0.0046 - acc: 0.9991 - val_loss: 0.0544 - val_acc: 0.9955\n",
            "Epoch 24/30\n",
            "1115/1115 [==============================] - 250s 224ms/step - loss: 0.0045 - acc: 0.9992 - val_loss: 0.0589 - val_acc: 0.9940\n",
            "Epoch 25/30\n",
            "1115/1115 [==============================] - 249s 224ms/step - loss: 0.0042 - acc: 0.9992 - val_loss: 0.0516 - val_acc: 0.9950\n",
            "Epoch 26/30\n",
            "1115/1115 [==============================] - 250s 225ms/step - loss: 0.0039 - acc: 0.9993 - val_loss: 0.0670 - val_acc: 0.9940\n",
            "Epoch 27/30\n",
            "1115/1115 [==============================] - 253s 227ms/step - loss: 0.0039 - acc: 0.9993 - val_loss: 0.0458 - val_acc: 0.9957\n",
            "Epoch 28/30\n",
            "1115/1115 [==============================] - 250s 224ms/step - loss: 0.0039 - acc: 0.9993 - val_loss: 0.0505 - val_acc: 0.9955\n",
            "Epoch 29/30\n",
            "1115/1115 [==============================] - 254s 228ms/step - loss: 0.0036 - acc: 0.9994 - val_loss: 0.0699 - val_acc: 0.9940\n",
            "Epoch 30/30\n",
            "1115/1115 [==============================] - 252s 226ms/step - loss: 0.0035 - acc: 0.9994 - val_loss: 0.0675 - val_acc: 0.9943\n"
          ],
          "name": "stdout"
        }
      ]
    },
    {
      "cell_type": "code",
      "metadata": {
        "id": "9weF5im0urPB",
        "colab_type": "code",
        "colab": {}
      },
      "source": [
        "results = model.predict(test)\n",
        "# select the indix with the maximum probability\n",
        "results = np.argmax(results,axis = 1)\n",
        "\n",
        "results = pd.Series(results,name=\"Label\")\n",
        "submission = pd.concat([pd.Series(range(1,28001),name = \"ImageId\"),results],axis = 1)\n",
        "\n",
        "submission.to_csv(\"/content/gdrive/My Drive/DigitRecog/cnn_mnist_datagen.csv\",index=False)"
      ],
      "execution_count": 0,
      "outputs": []
    },
    {
      "cell_type": "code",
      "metadata": {
        "id": "fMPElLjyf1iN",
        "colab_type": "code",
        "colab": {
          "base_uri": "https://localhost:8080/",
          "height": 265
        },
        "outputId": "e2aa516a-b087-4e25-c7fc-ca2177c58ac0"
      },
      "source": [
        "# Plot the loss and accuracy curves for training and validation \n",
        "fig, ax = plt.subplots(2,1)\n",
        "ax[0].plot(history.history['loss'], color='b', label=\"Training loss\")\n",
        "ax[0].plot(history.history['val_loss'], color='r', label=\"validation loss\",axes =ax[0])\n",
        "legend = ax[0].legend(loc='best', shadow=True)\n",
        "\n",
        "ax[1].plot(history.history['acc'], color='b', label=\"Training accuracy\")\n",
        "ax[1].plot(history.history['val_acc'], color='r',label=\"Validation accuracy\")\n",
        "legend = ax[1].legend(loc='best', shadow=True)"
      ],
      "execution_count": 33,
      "outputs": [
        {
          "output_type": "display_data",
          "data": {
            "image/png": "[encoded data removed]",
            "text/plain": [
              "<Figure size 432x288 with 2 Axes>"
            ]
          },
          "metadata": {
            "tags": []
          }
        }
      ]
    },
    {
      "cell_type": "markdown",
      "metadata": {
        "id": "yA2dncF1xGi6",
        "colab_type": "text"
      },
      "source": [
        "### Model:\n",
        "#### In -> [[Conv2D->relu] * 2 -> MaxPool2D -> Dropout]*2 -> Flatten -> Dense -> Dropout -> Out \n",
        "###records a 99.328 accuracy on test data.\n",
        "\n",
        "### Model:\n",
        "#### In -> [Conv2D->relu] * 3 -> BatchNorm -> MaxPool2D -> [Conv2D->relu] * 3 -> MaxPooling -> Flatten -> Dense -> Dropout -> Out \n",
        "###records a 0.99428 accuracy on test data."
      ]
    }
  ]
}